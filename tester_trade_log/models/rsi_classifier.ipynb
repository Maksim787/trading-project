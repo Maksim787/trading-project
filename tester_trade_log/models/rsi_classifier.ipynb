{
 "cells": [
  {
   "cell_type": "code",
   "execution_count": 14,
   "outputs": [],
   "source": [
    "import sklearn.tree as tree\n",
    "import matplotlib.pyplot as plt\n",
    "import pickle\n",
    "import gc\n",
    "import os\n",
    "import numpy as np\n",
    "from sklearn.ensemble import RandomForestClassifier\n",
    "from sklearn.metrics import ConfusionMatrixDisplay\n",
    "from sklearn.model_selection import train_test_split"
   ],
   "metadata": {
    "collapsed": false,
    "pycharm": {
     "name": "#%%\n"
    }
   }
  },
  {
   "cell_type": "code",
   "execution_count": 15,
   "outputs": [],
   "source": [
    "from tester_trade_log.data_iterator import DataIterator\n",
    "\n",
    "from ta.momentum import RSIIndicator\n",
    "from tqdm import tqdm\n",
    "\n",
    "import datetime\n",
    "import pandas as pd\n",
    "\n",
    "TRAIN_LENGTH = 199\n",
    "TEST_LENGTH = 50\n",
    "\n",
    "\n",
    "# всего 249 дней\n",
    "# train = 80% = 199\n",
    "# test = 20% = 50\n",
    "def get_dfs(ticker, lengths, predict_period=10, period=datetime.timedelta(minutes=1), directory=\"analysis/data/tickers_trade_log\"):\n",
    "    data_iterator = DataIterator(directory, ticker, period)\n",
    "    dfs = []\n",
    "    for i, (day, (time, close, high, low, volume)) in enumerate(data_iterator):\n",
    "        price = pd.Series(close)\n",
    "        df = pd.DataFrame({\"price_change\": price.diff(periods=predict_period).shift(-predict_period)})\n",
    "        df.price_change = 1 * (df.price_change > 0) + (-1) * (df.price_change < 0)\n",
    "        for length in lengths:\n",
    "            df[f\"rsi ({length} length)\"] = RSIIndicator(price, length).rsi()\n",
    "        dfs.append(df[df.price_change != 0].dropna())\n",
    "    return dfs\n",
    "\n",
    "\n",
    "def get_X_y(df, debug=False):\n",
    "    if debug:\n",
    "        counts = df.price_change.value_counts()\n",
    "        total_count = sum(counts)\n",
    "        for i, c in zip(counts.index, counts):\n",
    "            print(f\"{i}:\\t{c}\\t({c / total_count * 100:.1f}%)\")\n",
    "    return df.drop(columns=[\"price_change\"]), df.price_change"
   ],
   "metadata": {
    "collapsed": false,
    "pycharm": {
     "name": "#%%\n"
    }
   }
  },
  {
   "cell_type": "code",
   "execution_count": 40,
   "outputs": [],
   "source": [
    "def get_train_test(ticker):\n",
    "    lengths = [4, 7, 14]\n",
    "    predict_period = 10\n",
    "    dfs = get_dfs(ticker, lengths, directory=\"../../analysis/data/tickers_trade_log\", predict_period=predict_period)\n",
    "    train, test = train_test_split(dfs, train_size=TRAIN_LENGTH, shuffle=False)\n",
    "    train_df = pd.concat(train, ignore_index=True)\n",
    "    test_df = pd.concat(test, ignore_index=True)\n",
    "    X_train, y_train = get_X_y(train_df)\n",
    "    X_test, y_test = get_X_y(test_df)\n",
    "    return X_train, y_train, X_test, y_test\n",
    "\n",
    "def test_model_on_ticker(model, ticker, result_folder=None, plot=False, save=False, plot_path=\"\"):\n",
    "    X_train, y_train, X_test, y_test = get_train_test(ticker)\n",
    "    model.fit(X_train, y_train)\n",
    "    score = model.score(X_test, y_test)\n",
    "    if plot:\n",
    "        ConfusionMatrixDisplay.from_estimator(model, X_test, y_test, normalize=\"pred\", cmap=\"CMRmap\", display_labels=[\"Short\", \"Long\"])\n",
    "        plt.title(f\"{ticker} ({score:.3f} score)\")\n",
    "        if plot_path:\n",
    "            plt.savefig(plot_path)\n",
    "        plt.show()\n",
    "    if save:\n",
    "        with open(os.path.join(result_folder, ticker), \"wb\") as f:\n",
    "            pickle.dump(model, f)\n",
    "    return score\n",
    "\n",
    "def test_model_on_tickers(model, tickers, scores_file, result_folder):\n",
    "    scores = []\n",
    "    iterator = tqdm(tickers)\n",
    "    for ticker in iterator:\n",
    "        iterator.set_description(ticker)\n",
    "        scores.append(test_model_on_ticker(model, ticker, result_folder))\n",
    "        gc.collect()\n",
    "    with open(scores_file, \"w\") as f:\n",
    "        print(*scores, file=f)\n",
    "    return scores"
   ],
   "metadata": {
    "collapsed": false,
    "pycharm": {
     "name": "#%%\n"
    }
   }
  },
  {
   "cell_type": "code",
   "execution_count": 17,
   "outputs": [],
   "source": [
    "tickers = sorted([file.removesuffix(\".txt\") for file in os.listdir(\"../../analysis/data/tickers_trade_log\") if file != \"cache\"])"
   ],
   "metadata": {
    "collapsed": false,
    "pycharm": {
     "name": "#%%\n"
    }
   }
  },
  {
   "cell_type": "code",
   "execution_count": 18,
   "outputs": [
    {
     "name": "stderr",
     "output_type": "stream",
     "text": [
      "YNDX: 100%|██████████| 38/38 [02:00<00:00,  3.17s/it] \n",
      "YNDX: 100%|██████████| 38/38 [06:22<00:00, 10.07s/it] \n"
     ]
    },
    {
     "data": {
      "text/plain": "[0.5873315239891439,\n 0.5618206227534537,\n 0.5501980949169687,\n 0.5649505452700989,\n 0.5759074990271833,\n 0.5489436916084505,\n 0.5876249405045216,\n 0.5689691998803879,\n 0.5197791330146695,\n 0.5245792367938676,\n 0.5386924616410941,\n 0.5794436586515794,\n 0.5214929321319335,\n 0.5390662323561346,\n 0.5403386454183267,\n 0.522375539990773,\n 0.6073109097246427,\n 0.575,\n 0.5411918795022921,\n 0.5473851427615902,\n 0.5405371485943775,\n 0.6023388902712118,\n 0.5981116950209316,\n 0.5431030845183341,\n 0.5626472384608673,\n 0.5538167127365511,\n 0.5307568703390878,\n 0.5388974540605859,\n 0.6286390402289362,\n 0.5361240701046527,\n 0.5478951348626165,\n 0.6367012223425653,\n 0.5274780426599749,\n 0.6336561198063281,\n 0.5465329755684225,\n 0.5603298814488543,\n 0.5449229355498935,\n 0.5642487292765189]"
     },
     "execution_count": 18,
     "metadata": {},
     "output_type": "execute_result"
    }
   ],
   "source": [
    "test_model_on_tickers(tree.DecisionTreeClassifier(max_depth=2, class_weight=\"balanced\"), tickers, \"scores_tree.txt\", \"saved/tree\", save=True)\n",
    "test_model_on_tickers(RandomForestClassifier(max_depth=2, class_weight=\"balanced\"), tickers, \"scores_forest.txt\", \"saved/forest\", save=True)"
   ],
   "metadata": {
    "collapsed": false,
    "pycharm": {
     "name": "#%%\n"
    }
   }
  },
  {
   "cell_type": "code",
   "execution_count": 19,
   "outputs": [],
   "source": [
    "# def get_model(ticker: str):\n",
    "#     with open(os.path.join(\"saved\", ticker), \"rb\") as f:\n",
    "#        return pickle.load(f)\n",
    "# tickers = os.listdir(\"saved\")\n",
    "# model = get_model(\"SBER\")\n",
    "# model.predict_proba(np.array([[1, 20, 3]]))\n",
    "\n",
    "# lengths = [4, 7, 14]\n",
    "# feature_names = [f\"rsi ({length} length)\" for length in lengths] + [f\"rsi diff ({length} length)\" for length in lengths]\n",
    "# with open(\"tmp.txt\", \"w\") as f:\n",
    "#     for ticker in tickers:\n",
    "#         print(ticker, file=f)\n",
    "#         print(tree.export_text(get_model(ticker), feature_names=feature_names), file=f)"
   ],
   "metadata": {
    "collapsed": false,
    "pycharm": {
     "name": "#%%\n"
    }
   }
  },
  {
   "cell_type": "code",
   "execution_count": 20,
   "outputs": [],
   "source": [
    "with open(\"scores_forest.txt\") as f:\n",
    "    forest_scores = np.array(list(map(float, f.readline().split())))\n",
    "with open(\"scores_tree.txt\") as f:\n",
    "    tree_scores = np.array(list(map(float, f.readline().split())))"
   ],
   "metadata": {
    "collapsed": false,
    "pycharm": {
     "name": "#%%\n"
    }
   }
  },
  {
   "cell_type": "code",
   "execution_count": 49,
   "outputs": [
    {
     "data": {
      "text/plain": "<Figure size 432x288 with 1 Axes>",
      "image/png": "[encoded data removed]"
     },
     "metadata": {
      "needs_background": "light"
     },
     "output_type": "display_data"
    }
   ],
   "source": [
    "import numpy as np\n",
    "x = np.linspace(0, len(tickers), len(tickers))\n",
    "# plt.plot(x, forest_scores, label=\"forest_scores\")\n",
    "# plt.plot(x, tree_scores, label=\"tree_scores\")\n",
    "diff = forest_scores - tree_scores\n",
    "plt.xlabel(\"Номер тикера в списке\")\n",
    "plt.ylabel(\"(forest score) - (tree score)\")\n",
    "plt.bar(x, diff)\n",
    "plt.savefig(\"figures/tree-forest.png\", bbox_inches='tight')\n",
    "plt.show()"
   ],
   "metadata": {
    "collapsed": false,
    "pycharm": {
     "name": "#%%\n"
    }
   }
  },
  {
   "cell_type": "code",
   "execution_count": 22,
   "outputs": [
    {
     "data": {
      "text/plain": "(0.0003894640803084326, 0.0035589303399853633)"
     },
     "execution_count": 22,
     "metadata": {},
     "output_type": "execute_result"
    }
   ],
   "source": [
    "diff.mean(), diff.std()"
   ],
   "metadata": {
    "collapsed": false,
    "pycharm": {
     "name": "#%%\n"
    }
   }
  },
  {
   "cell_type": "code",
   "execution_count": 23,
   "outputs": [
    {
     "data": {
      "text/plain": "0.5605036614681007"
     },
     "execution_count": 23,
     "metadata": {},
     "output_type": "execute_result"
    }
   ],
   "source": [
    "forest_scores.mean()"
   ],
   "metadata": {
    "collapsed": false,
    "pycharm": {
     "name": "#%%\n"
    }
   }
  },
  {
   "cell_type": "code",
   "execution_count": 24,
   "outputs": [
    {
     "data": {
      "text/plain": "0.5601141973877922"
     },
     "execution_count": 24,
     "metadata": {},
     "output_type": "execute_result"
    }
   ],
   "source": [
    "tree_scores.mean()"
   ],
   "metadata": {
    "collapsed": false,
    "pycharm": {
     "name": "#%%\n"
    }
   }
  },
  {
   "cell_type": "code",
   "execution_count": 45,
   "outputs": [
    {
     "data": {
      "text/plain": "<Figure size 432x288 with 2 Axes>",
      "image/png": "[encoded data removed]"
     },
     "metadata": {
      "needs_background": "light"
     },
     "output_type": "display_data"
    },
    {
     "data": {
      "text/plain": "<Figure size 432x288 with 2 Axes>",
      "image/png": "[encoded data removed]"
     },
     "metadata": {
      "needs_background": "light"
     },
     "output_type": "display_data"
    },
    {
     "data": {
      "text/plain": "0.5872395234371406"
     },
     "execution_count": 45,
     "metadata": {},
     "output_type": "execute_result"
    }
   ],
   "source": [
    "test_model_on_ticker(tree.DecisionTreeClassifier(max_depth=2, class_weight=\"balanced\"), \"AFKS\", save=False, plot=True, plot_path=\"figures/afks-tree-score.png\")\n",
    "test_model_on_ticker(RandomForestClassifier(max_depth=2, class_weight=\"balanced\"), \"AFKS\", save=False, plot=True, plot_path=\"figures/afks-forest-score.png\")"
   ],
   "metadata": {
    "collapsed": false,
    "pycharm": {
     "name": "#%%\n"
    }
   }
  },
  {
   "cell_type": "code",
   "execution_count": 25,
   "outputs": [],
   "source": [],
   "metadata": {
    "collapsed": false,
    "pycharm": {
     "name": "#%%\n"
    }
   }
  }
 ],
 "metadata": {
  "kernelspec": {
   "display_name": "Python 3",
   "language": "python",
   "name": "python3"
  },
  "language_info": {
   "codemirror_mode": {
    "name": "ipython",
    "version": 2
   },
   "file_extension": ".py",
   "mimetype": "text/x-python",
   "name": "python",
   "nbconvert_exporter": "python",
   "pygments_lexer": "ipython2",
   "version": "2.7.6"
  }
 },
 "nbformat": 4,
 "nbformat_minor": 0
}