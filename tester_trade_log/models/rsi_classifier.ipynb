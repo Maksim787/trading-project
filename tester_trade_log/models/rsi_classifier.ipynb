{
 "cells": [
  {
   "cell_type": "code",
   "execution_count": 30,
   "metadata": {
    "collapsed": true
   },
   "outputs": [],
   "source": [
    "from tester_trade_log.data_iterator import DataIterator\n",
    "\n",
    "from ta.momentum import RSIIndicator\n",
    "from tqdm import tqdm\n",
    "\n",
    "import datetime\n",
    "import pandas as pd\n",
    "\n",
    "TRAIN_LENGTH = 199\n",
    "TEST_LENGTH = 50\n",
    "\n",
    "\n",
    "# всего 249 дней\n",
    "# train = 80% = 199\n",
    "# test = 20% = 50\n",
    "def get_dfs(ticker, length, alpha, predict_period=10, period=datetime.timedelta(minutes=1), directory=\"analysis/data/tickers_trade_log\"):\n",
    "    data_iterator = DataIterator(directory, ticker, period)\n",
    "    dfs = []\n",
    "    for i, (day, (time, close, high, low, volume)) in tqdm(enumerate(data_iterator), total=TRAIN_LENGTH + TEST_LENGTH):\n",
    "        price = pd.Series(close)\n",
    "        df = pd.DataFrame({\"price_change\": price.diff(periods=predict_period).shift(-predict_period)})\n",
    "        df[f\"rsi ({length} length)\"] = RSIIndicator(price, length).rsi()\n",
    "        df = df[df.price_change.abs() > alpha * df.price_change.std()]\n",
    "        df = df.dropna()\n",
    "        dfs.append(df)\n",
    "    return dfs\n",
    "\n",
    "\n",
    "def get_X_y(df, is_train):\n",
    "    df = df.copy()\n",
    "\n",
    "    def get_class(change):\n",
    "        if change > 0:\n",
    "            return 1\n",
    "        if change < 0:\n",
    "            return -1\n",
    "        return 0\n",
    "\n",
    "    df.price_change = df.price_change.apply(get_class)\n",
    "    counts = df.price_change.value_counts()\n",
    "    total_count = sum(counts)\n",
    "    if is_train:\n",
    "        for i, c in zip(counts.index, counts):\n",
    "            print(f\"{i}:\\t{c}\\t({c / total_count * 100:.1f}%)\")\n",
    "    df = df[df.price_change != 0]\n",
    "    X = df.drop(columns=[\"price_change\"])\n",
    "    y = df.price_change\n",
    "    return X, y"
   ]
  },
  {
   "cell_type": "code",
   "execution_count": 31,
   "outputs": [],
   "source": [
    "import sklearn.tree as tree\n",
    "import matplotlib.pyplot as plt\n",
    "from sklearn.metrics import ConfusionMatrixDisplay\n",
    "from sklearn.model_selection import train_test_split"
   ],
   "metadata": {
    "collapsed": false,
    "pycharm": {
     "name": "#%%\n"
    }
   }
  },
  {
   "cell_type": "code",
   "execution_count": 32,
   "outputs": [
    {
     "name": "stdout",
     "output_type": "stream",
     "text": [
      "Read data\n"
     ]
    },
    {
     "ename": "KeyboardInterrupt",
     "evalue": "",
     "output_type": "error",
     "traceback": [
      "\u001B[1;31m---------------------------------------------------------------------------\u001B[0m",
      "\u001B[1;31mKeyboardInterrupt\u001B[0m                         Traceback (most recent call last)",
      "Input \u001B[1;32mIn [32]\u001B[0m, in \u001B[0;36m<cell line: 6>\u001B[1;34m()\u001B[0m\n\u001B[0;32m      4\u001B[0m length \u001B[38;5;241m=\u001B[39m \u001B[38;5;241m14\u001B[39m\n\u001B[0;32m      5\u001B[0m period \u001B[38;5;241m=\u001B[39m \u001B[38;5;241m14\u001B[39m\n\u001B[1;32m----> 6\u001B[0m dfs \u001B[38;5;241m=\u001B[39m \u001B[43mget_dfs\u001B[49m\u001B[43m(\u001B[49m\u001B[43mticker\u001B[49m\u001B[43m,\u001B[49m\u001B[43m \u001B[49m\u001B[43mlength\u001B[49m\u001B[43m,\u001B[49m\u001B[43m \u001B[49m\u001B[43malpha\u001B[49m\u001B[43m,\u001B[49m\u001B[43m \u001B[49m\u001B[43mdirectory\u001B[49m\u001B[38;5;241;43m=\u001B[39;49m\u001B[38;5;124;43m\"\u001B[39;49m\u001B[38;5;124;43m../../analysis/data/tickers_trade_log\u001B[39;49m\u001B[38;5;124;43m\"\u001B[39;49m\u001B[43m,\u001B[49m\u001B[43m \u001B[49m\u001B[43mperiod\u001B[49m\u001B[38;5;241;43m=\u001B[39;49m\u001B[43mdatetime\u001B[49m\u001B[38;5;241;43m.\u001B[39;49m\u001B[43mtimedelta\u001B[49m\u001B[43m(\u001B[49m\u001B[43mminutes\u001B[49m\u001B[38;5;241;43m=\u001B[39;49m\u001B[43mperiod\u001B[49m\u001B[43m)\u001B[49m\u001B[43m)\u001B[49m\n\u001B[0;32m      7\u001B[0m train, test \u001B[38;5;241m=\u001B[39m train_test_split(dfs, train_size\u001B[38;5;241m=\u001B[39mTRAIN_LENGTH, shuffle\u001B[38;5;241m=\u001B[39m\u001B[38;5;28;01mFalse\u001B[39;00m)\n\u001B[0;32m      8\u001B[0m train_df \u001B[38;5;241m=\u001B[39m pd\u001B[38;5;241m.\u001B[39mconcat(train, ignore_index\u001B[38;5;241m=\u001B[39m\u001B[38;5;28;01mTrue\u001B[39;00m)\n",
      "Input \u001B[1;32mIn [30]\u001B[0m, in \u001B[0;36mget_dfs\u001B[1;34m(ticker, length, alpha, predict_period, period, directory)\u001B[0m\n\u001B[0;32m     16\u001B[0m \u001B[38;5;28;01mdef\u001B[39;00m \u001B[38;5;21mget_dfs\u001B[39m(ticker, length, alpha, predict_period\u001B[38;5;241m=\u001B[39m\u001B[38;5;241m10\u001B[39m, period\u001B[38;5;241m=\u001B[39mdatetime\u001B[38;5;241m.\u001B[39mtimedelta(minutes\u001B[38;5;241m=\u001B[39m\u001B[38;5;241m1\u001B[39m), directory\u001B[38;5;241m=\u001B[39m\u001B[38;5;124m\"\u001B[39m\u001B[38;5;124manalysis/data/tickers_trade_log\u001B[39m\u001B[38;5;124m\"\u001B[39m):\n\u001B[1;32m---> 17\u001B[0m     data_iterator \u001B[38;5;241m=\u001B[39m \u001B[43mDataIterator\u001B[49m\u001B[43m(\u001B[49m\u001B[43mdirectory\u001B[49m\u001B[43m,\u001B[49m\u001B[43m \u001B[49m\u001B[43mticker\u001B[49m\u001B[43m,\u001B[49m\u001B[43m \u001B[49m\u001B[43mperiod\u001B[49m\u001B[43m)\u001B[49m\n\u001B[0;32m     18\u001B[0m     dfs \u001B[38;5;241m=\u001B[39m []\n\u001B[0;32m     19\u001B[0m     \u001B[38;5;28;01mfor\u001B[39;00m i, (day, (time, close, high, low, volume)) \u001B[38;5;129;01min\u001B[39;00m tqdm(\u001B[38;5;28menumerate\u001B[39m(data_iterator), total\u001B[38;5;241m=\u001B[39mTRAIN_LENGTH \u001B[38;5;241m+\u001B[39m TEST_LENGTH):\n",
      "File \u001B[1;32mD:\\Projects\\trading-project\\tester_trade_log\\data_iterator.py:54\u001B[0m, in \u001B[0;36mDataIterator.__init__\u001B[1;34m(self, data_directory, ticker, period)\u001B[0m\n\u001B[0;32m     52\u001B[0m \u001B[38;5;28;01mif\u001B[39;00m cache_file_name \u001B[38;5;129;01mnot\u001B[39;00m \u001B[38;5;129;01min\u001B[39;00m os\u001B[38;5;241m.\u001B[39mlistdir(cache_directory):\n\u001B[0;32m     53\u001B[0m     data_full_path \u001B[38;5;241m=\u001B[39m os\u001B[38;5;241m.\u001B[39mpath\u001B[38;5;241m.\u001B[39mjoin(\u001B[38;5;28mself\u001B[39m\u001B[38;5;241m.\u001B[39m_data_directory, \u001B[38;5;124mf\u001B[39m\u001B[38;5;124m\"\u001B[39m\u001B[38;5;132;01m{\u001B[39;00m\u001B[38;5;28mself\u001B[39m\u001B[38;5;241m.\u001B[39m_ticker\u001B[38;5;132;01m}\u001B[39;00m\u001B[38;5;124m.txt\u001B[39m\u001B[38;5;124m\"\u001B[39m)\n\u001B[1;32m---> 54\u001B[0m     \u001B[38;5;28;43mself\u001B[39;49m\u001B[38;5;241;43m.\u001B[39;49m\u001B[43m_make_cache\u001B[49m\u001B[43m(\u001B[49m\u001B[43mdata_full_path\u001B[49m\u001B[43m,\u001B[49m\u001B[43m \u001B[49m\u001B[38;5;28;43mself\u001B[39;49m\u001B[38;5;241;43m.\u001B[39;49m\u001B[43m_cache_full_path\u001B[49m\u001B[43m)\u001B[49m\n",
      "File \u001B[1;32mD:\\Projects\\trading-project\\tester_trade_log\\data_iterator.py:89\u001B[0m, in \u001B[0;36mDataIterator._make_cache\u001B[1;34m(self, data_full_path, cache_full_path)\u001B[0m\n\u001B[0;32m     87\u001B[0m \u001B[38;5;28;01mwhile\u001B[39;00m \u001B[38;5;28mlen\u001B[39m(row) \u001B[38;5;241m==\u001B[39m row_size:\n\u001B[0;32m     88\u001B[0m     row \u001B[38;5;241m=\u001B[39m \u001B[38;5;28mself\u001B[39m\u001B[38;5;241m.\u001B[39m_data_from_row(row)\n\u001B[1;32m---> 89\u001B[0m     \u001B[38;5;28;01mwhile\u001B[39;00m period_data\u001B[38;5;241m.\u001B[39mis_ready(row[\u001B[38;5;241m0\u001B[39m]):\n\u001B[0;32m     90\u001B[0m         data\u001B[38;5;241m.\u001B[39mappend(period_data\u001B[38;5;241m.\u001B[39mget_data())\n\u001B[0;32m     91\u001B[0m     period_data\u001B[38;5;241m.\u001B[39madd_data(\u001B[38;5;241m*\u001B[39mrow)\n",
      "\u001B[1;31mKeyboardInterrupt\u001B[0m: "
     ]
    }
   ],
   "source": [
    "print(\"Read data\")\n",
    "ticker = \"SBER\"\n",
    "alpha = 0.01\n",
    "length = 14\n",
    "period = 14\n",
    "dfs = get_dfs(ticker, length, alpha, directory=\"../../analysis/data/tickers_trade_log\", period=datetime.timedelta(minutes=period))\n",
    "train, test = train_test_split(dfs, train_size=TRAIN_LENGTH, shuffle=False)\n",
    "train_df = pd.concat(train, ignore_index=True)\n",
    "test_df = pd.concat(test, ignore_index=True)"
   ],
   "metadata": {
    "collapsed": false,
    "pycharm": {
     "name": "#%%\n"
    }
   }
  },
  {
   "cell_type": "code",
   "execution_count": null,
   "outputs": [],
   "source": [
    "X_train, y_train = get_X_y(train_df, True)\n",
    "X_test, y_test = get_X_y(test_df, False)"
   ],
   "metadata": {
    "collapsed": false,
    "pycharm": {
     "name": "#%%\n"
    }
   }
  },
  {
   "cell_type": "code",
   "execution_count": null,
   "outputs": [],
   "source": [
    "model = tree.DecisionTreeClassifier(max_depth=2, class_weight=\"balanced\")\n",
    "print(\"Train model\")\n",
    "model.fit(X_train, y_train)\n",
    "print(\"Test model\")\n",
    "score = model.score(X_test, y_test)\n",
    "print(f\"Score = {score}\")\n",
    "ConfusionMatrixDisplay.from_estimator(model, X_test, y_test, normalize=\"pred\", cmap=\"CMRmap\")\n",
    "plt.show()"
   ],
   "metadata": {
    "collapsed": false,
    "pycharm": {
     "name": "#%%\n"
    }
   }
  },
  {
   "cell_type": "code",
   "execution_count": null,
   "outputs": [],
   "source": [
    "text = tree.export_text(model, feature_names=[f\"rsi ({length} length)\"])\n",
    "print(text)"
   ],
   "metadata": {
    "collapsed": false,
    "pycharm": {
     "name": "#%%\n"
    }
   }
  },
  {
   "cell_type": "code",
   "execution_count": null,
   "outputs": [],
   "source": [],
   "metadata": {
    "collapsed": false,
    "pycharm": {
     "name": "#%%\n"
    }
   }
  }
 ],
 "metadata": {
  "kernelspec": {
   "display_name": "Python 3",
   "language": "python",
   "name": "python3"
  },
  "language_info": {
   "codemirror_mode": {
    "name": "ipython",
    "version": 2
   },
   "file_extension": ".py",
   "mimetype": "text/x-python",
   "name": "python",
   "nbconvert_exporter": "python",
   "pygments_lexer": "ipython2",
   "version": "2.7.6"
  }
 },
 "nbformat": 4,
 "nbformat_minor": 0
}