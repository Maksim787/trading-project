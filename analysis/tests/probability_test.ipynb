{
 "cells": [
  {
   "cell_type": "code",
   "execution_count": 52,
   "metadata": {
    "collapsed": true
   },
   "outputs": [],
   "source": [
    "import random\n",
    "import importlib\n",
    "import analysis.tests.probability_test as test\n",
    "\n",
    "importlib.reload(test)\n",
    "\n",
    "random.seed(1)\n",
    "\n",
    "%matplotlib inline"
   ]
  },
  {
   "cell_type": "code",
   "execution_count": 53,
   "outputs": [],
   "source": [
    "from analysis.utils import read_ticker\n",
    "\n",
    "ticker = \"SBER\"\n",
    "prices_by_day, time = read_ticker(ticker)\n",
    "days = list(prices_by_day.keys())"
   ],
   "metadata": {
    "collapsed": false,
    "pycharm": {
     "name": "#%%\n"
    }
   }
  },
  {
   "cell_type": "code",
   "execution_count": 54,
   "outputs": [],
   "source": [
    "chains = []\n",
    "for price_list in prices_by_day.values():\n",
    "    chains.append(test.create_chain(price_list, k=1))"
   ],
   "metadata": {
    "collapsed": false,
    "pycharm": {
     "name": "#%%\n"
    }
   }
  },
  {
   "cell_type": "code",
   "execution_count": 55,
   "outputs": [],
   "source": [
    "chain = test.merge_chains(chains)"
   ],
   "metadata": {
    "collapsed": false,
    "pycharm": {
     "name": "#%%\n"
    }
   }
  },
  {
   "cell_type": "code",
   "execution_count": 56,
   "outputs": [],
   "source": [
    "norm_chain = test.normalize_chain(chain)"
   ],
   "metadata": {
    "collapsed": false,
    "pycharm": {
     "name": "#%%\n"
    }
   }
  },
  {
   "cell_type": "code",
   "execution_count": 57,
   "outputs": [
    {
     "name": "stdout",
     "output_type": "stream",
     "text": [
      "[Up]:\n",
      "\tUp: 0.4204739926360006\n",
      "\tDown: 0.4864042593648983\n",
      "\tStay: 0.09312174799910111\n",
      "[Down]:\n",
      "\tUp: 0.4847317081562785\n",
      "\tDown: 0.4208715399040033\n",
      "\tStay: 0.09439675193971821\n",
      "[Stay]:\n",
      "\tUp: 0.4197550251256281\n",
      "\tDown: 0.4331030150753769\n",
      "\tStay: 0.14714195979899497\n"
     ]
    }
   ],
   "source": [
    "test.print_chain(norm_chain)"
   ],
   "metadata": {
    "collapsed": false,
    "pycharm": {
     "name": "#%%\n"
    }
   }
  },
  {
   "cell_type": "code",
   "execution_count": 57,
   "outputs": [],
   "source": [],
   "metadata": {
    "collapsed": false,
    "pycharm": {
     "name": "#%%\n"
    }
   }
  }
 ],
 "metadata": {
  "kernelspec": {
   "display_name": "Python 3",
   "language": "python",
   "name": "python3"
  },
  "language_info": {
   "codemirror_mode": {
    "name": "ipython",
    "version": 2
   },
   "file_extension": ".py",
   "mimetype": "text/x-python",
   "name": "python",
   "nbconvert_exporter": "python",
   "pygments_lexer": "ipython2",
   "version": "2.7.6"
  }
 },
 "nbformat": 4,
 "nbformat_minor": 0
}